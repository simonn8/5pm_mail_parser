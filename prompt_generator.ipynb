{
 "cells": [
  {
   "cell_type": "code",
   "execution_count": 1,
   "metadata": {},
   "outputs": [],
   "source": [
    "import json"
   ]
  },
  {
   "cell_type": "code",
   "execution_count": 2,
   "metadata": {},
   "outputs": [
    {
     "name": "stdout",
     "output_type": "stream",
     "text": [
      "On the date of 240228 the following 3 articles were selected:\n",
      " - Another High Court defeat for Harry\n",
      " - Navalny’s corpse ‘was abused after his death in gulag’, claims widow\n",
      " - 4 cheers for leap-year quads\n",
      "On the date of 240229 the following 3 articles were selected:\n",
      " - How was Couzens EVER allowed to join the police?\n",
      " - Russia ‘fully ready for a nuclear war’\n",
      " - Hairy Biker Dave Myers dies at 66 after battle with cancer\n",
      "\n"
     ]
    }
   ],
   "source": [
    "number_of_prompts = 0\n",
    "prompt_text = \"\"\n",
    "with open(\"data/email_links.jsonl\",\"r\",encoding=\"utf-8\") as jsonl:\n",
    "    for json_line in jsonl:\n",
    "        links = json.loads(json_line)\n",
    "        if \"TONIGHT'S TOP STORIES\" in links:\n",
    "            number_of_prompts += 1\n",
    "            if number_of_prompts > 2:\n",
    "                break\n",
    "            prompt_text += f\"On the date of {links['publication_date']} the following 3 articles were selected:\\n\"\n",
    "            for link in links[\"TONIGHT'S TOP STORIES\"]:\n",
    "                prompt_text += f\" - {link}\\n\" \n",
    "\n",
    "print(prompt_text)\n",
    "\n",
    "        \n"
   ]
  },
  {
   "cell_type": "code",
   "execution_count": 9,
   "metadata": {},
   "outputs": [],
   "source": [
    "all_links = []\n",
    "with open(\"data/email_links.jsonl\",\"r\",encoding=\"utf-8\") as jsonl:\n",
    "    for json_line in jsonl:\n",
    "        links = json.loads(json_line)\n",
    "        all_links.append(links)"
   ]
  },
  {
   "cell_type": "code",
   "execution_count": 10,
   "metadata": {},
   "outputs": [],
   "source": [
    "sorted_publications = sorted(all_links, key=lambda x: x[\"publication_date\"])"
   ]
  },
  {
   "cell_type": "code",
   "execution_count": 11,
   "metadata": {},
   "outputs": [
    {
     "name": "stdout",
     "output_type": "stream",
     "text": [
      "240214\n",
      "240215\n",
      "240216\n",
      "240219\n",
      "240220\n",
      "240221\n",
      "240222\n",
      "240223\n",
      "240226\n",
      "240227\n",
      "240228\n",
      "240229\n",
      "240301\n",
      "240304\n",
      "240305\n",
      "240306\n",
      "240307\n",
      "240308\n"
     ]
    }
   ],
   "source": [
    "for publication in sorted_publications:\n",
    "    print(publication[\"publication_date\"])"
   ]
  },
  {
   "cell_type": "code",
   "execution_count": 13,
   "metadata": {},
   "outputs": [
    {
     "name": "stdout",
     "output_type": "stream",
     "text": [
      "On the date of 240214 the following 3 articles were selected:\n",
      " - Anti-Israel furore: So who else was at Labour meeting?\n",
      " - Sussexes jet off to Canada for Invictus launch as website rumpus rumbles on\n",
      " - Yee-haw! Rhinestone cowgirl Beyonce on a night out with her mom\n",
      "On the date of 240215 the following 3 articles were selected:\n",
      " - Slash taxes NOW Hunt urged as UK dips into recession\n",
      " - Channel migrants ‘who mean harm’ to UK are being watched by the security services\n",
      " - Mask fan Naomi's germ of an idea\n",
      "On the date of 240216 the following 3 articles were selected:\n",
      " - Putin critic Navalny dies ‘after taking a walk’ in Siberian jail\n",
      " - Harry hints at royal reconciliation\n",
      " - It’s back to where it once belonged...\n",
      "\n"
     ]
    }
   ],
   "source": [
    "number_of_prompts = 0\n",
    "prompt_text = \"\"\n",
    "for publication in sorted_publications:\n",
    "    if \"TONIGHT'S TOP STORIES\" in publication:\n",
    "        number_of_prompts += 1\n",
    "        if number_of_prompts > 3:\n",
    "            break\n",
    "        prompt_text += f\"On the date of {publication['publication_date']} the following 3 articles were selected:\\n\"\n",
    "        for link in publication[\"TONIGHT'S TOP STORIES\"]:\n",
    "            prompt_text += f\" - {link}\\n\" \n",
    "\n",
    "print(prompt_text)\n",
    "\n",
    "        "
   ]
  }
 ],
 "metadata": {
  "kernelspec": {
   "display_name": ".venv",
   "language": "python",
   "name": "python3"
  },
  "language_info": {
   "codemirror_mode": {
    "name": "ipython",
    "version": 3
   },
   "file_extension": ".py",
   "mimetype": "text/x-python",
   "name": "python",
   "nbconvert_exporter": "python",
   "pygments_lexer": "ipython3",
   "version": "3.11.7"
  },
  "orig_nbformat": 4
 },
 "nbformat": 4,
 "nbformat_minor": 2
}
