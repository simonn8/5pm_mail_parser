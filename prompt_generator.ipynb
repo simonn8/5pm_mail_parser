{
 "cells": [
  {
   "cell_type": "code",
   "execution_count": 2,
   "metadata": {},
   "outputs": [],
   "source": [
    "import json"
   ]
  },
  {
   "cell_type": "code",
   "execution_count": 3,
   "metadata": {},
   "outputs": [
    {
     "name": "stdout",
     "output_type": "stream",
     "text": [
      "On the date of 240228 the following 3 articles were selected:\n",
      " - Another High Court defeat for Harry\n",
      " - Navalny’s corpse ‘was abused after his death in gulag’, claims widow\n",
      " - 4 cheers for leap-year quads\n",
      "On the date of 240229 the following 3 articles were selected:\n",
      " - How was Couzens EVER allowed to join the police?\n",
      " - Russia ‘fully ready for a nuclear war’\n",
      " - Hairy Biker Dave Myers dies at 66 after battle with cancer\n",
      "\n"
     ]
    }
   ],
   "source": [
    "number_of_prompts = 0\n",
    "prompt_text = \"\"\n",
    "with open(\"data/email_links.jsonl\",\"r\",encoding=\"utf-8\") as jsonl:\n",
    "    for json_line in jsonl:\n",
    "        links = json.loads(json_line)\n",
    "        if \"TONIGHT'S TOP STORIES\" in links:\n",
    "            number_of_prompts += 1\n",
    "            if number_of_prompts > 2:\n",
    "                break\n",
    "            prompt_text += f\"On the date of {links['publication_date']} the following 3 articles were selected:\\n\"\n",
    "            for link in links[\"TONIGHT'S TOP STORIES\"]:\n",
    "                prompt_text += f\" - {link}\\n\" \n",
    "\n",
    "print(prompt_text)\n",
    "\n",
    "        \n"
   ]
  },
  {
   "cell_type": "code",
   "execution_count": null,
   "metadata": {},
   "outputs": [],
   "source": []
  }
 ],
 "metadata": {
  "kernelspec": {
   "display_name": ".venv",
   "language": "python",
   "name": "python3"
  },
  "language_info": {
   "codemirror_mode": {
    "name": "ipython",
    "version": 3
   },
   "file_extension": ".py",
   "mimetype": "text/x-python",
   "name": "python",
   "nbconvert_exporter": "python",
   "pygments_lexer": "ipython3",
   "version": "3.11.7"
  },
  "orig_nbformat": 4
 },
 "nbformat": 4,
 "nbformat_minor": 2
}
