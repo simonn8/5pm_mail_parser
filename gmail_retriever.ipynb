{
 "cells": [
  {
   "cell_type": "code",
   "execution_count": 5,
   "metadata": {},
   "outputs": [
    {
     "data": {
      "text/plain": [
       "('OK', [b'18'])"
      ]
     },
     "execution_count": 5,
     "metadata": {},
     "output_type": "execute_result"
    }
   ],
   "source": [
    "# Importing libraries\n",
    "import imaplib, email\n",
    "from bs4 import BeautifulSoup\n",
    "import os\n",
    "from dotenv import load_dotenv\n",
    "from datetime import datetime\n",
    "\n",
    "load_dotenv()\n",
    "\n",
    "user = os.getenv('user')\n",
    "password = os.getenv('GMAIL_PSWD')\n",
    "imap_url = 'imap.gmail.com'\n",
    "\n",
    "# Function to get email content part i.e its body part\n",
    "def get_body(msg):\n",
    "    if msg.is_multipart():\n",
    "        return get_body(msg.get_payload(0))\n",
    "    else:\n",
    "        return msg.get_payload(None, True)\n",
    "\n",
    "# Function to search for a key value pair\n",
    "def search(key, value, con):\n",
    "    result, data = con.search(None, key, '\"{}\"'.format(value))\n",
    "    return data\n",
    "\n",
    "# Function to get the list of emails under this label\n",
    "def get_emails(result_bytes):\n",
    "    msgs = [] # all the email data are pushed inside an array\n",
    "    for num in result_bytes[0].split():\n",
    "        typ, data = con.fetch(num, '(RFC822)')\n",
    "        msgs.append(data)\n",
    "\n",
    "    return msgs\n",
    "\n",
    "# this is done to make SSL connection with GMAIL\n",
    "con = imaplib.IMAP4_SSL(imap_url)\n",
    "\n",
    "# logging the user in\n",
    "con.login(user, password)\n",
    "\n",
    "# calling function to check for email under this label\n",
    "con.select('5pm_dailymail')"
   ]
  },
  {
   "cell_type": "code",
   "execution_count": 6,
   "metadata": {},
   "outputs": [],
   "source": [
    "# fetching emails from this user \"tu**h*****1@gmail.com\"\n",
    "msgs = get_emails(search('FROM', 'newsletter@news.dailymail.co.uk', con))"
   ]
  },
  {
   "cell_type": "code",
   "execution_count": 7,
   "metadata": {},
   "outputs": [
    {
     "data": {
      "text/plain": [
       "18"
      ]
     },
     "execution_count": 7,
     "metadata": {},
     "output_type": "execute_result"
    }
   ],
   "source": [
    "len(msgs)"
   ]
  },
  {
   "cell_type": "code",
   "execution_count": 8,
   "metadata": {},
   "outputs": [],
   "source": [
    "from email.parser import Parser"
   ]
  },
  {
   "cell_type": "code",
   "execution_count": 10,
   "metadata": {},
   "outputs": [],
   "source": [
    "parser = Parser()"
   ]
  },
  {
   "cell_type": "code",
   "execution_count": 11,
   "metadata": {},
   "outputs": [],
   "source": [
    "email = parser.parsestr(msgs[0][0][1].decode(\"utf-8\"))"
   ]
  },
  {
   "cell_type": "code",
   "execution_count": 20,
   "metadata": {},
   "outputs": [
    {
     "data": {
      "text/plain": [
       "'Slash taxes NOW Hunt urged as UK dips into recession'"
      ]
     },
     "execution_count": 20,
     "metadata": {},
     "output_type": "execute_result"
    }
   ],
   "source": [
    "email_2 = parser.parsestr(msgs[1][0][1].decode(\"utf-8\"))\n"
   ]
  },
  {
   "cell_type": "code",
   "execution_count": 42,
   "metadata": {},
   "outputs": [],
   "source": [
    "def store_message_in_file(msg):\n",
    "    email = parser.parsestr(msg.decode(\"utf-8\"))\n",
    "    # Your input string\n",
    "    date_string = email[\"Date\"]\n",
    "\n",
    "    # Convert string to datetime object\n",
    "    datetime_obj = datetime.strptime(date_string, '%a, %d %b %Y %H:%M:%S %z (EST)')\n",
    "    news_date = datetime_obj.strftime(\"%y%m%d\")\n",
    "    html_filename = f\"data/newsletter_5pm_{news_date}.html\"\n",
    "    if email.is_multipart():\n",
    "        for part in email.walk():\n",
    "            content_type = part.get_content_type()\n",
    "            if content_type == \"text/html\":\n",
    "                html = part.get_payload(decode=True).decode()\n",
    "                with open(html_filename, \"w\") as f:\n",
    "                    f.write(html)\n",
    "    "
   ]
  },
  {
   "cell_type": "code",
   "execution_count": 44,
   "metadata": {},
   "outputs": [],
   "source": [
    "# Store each html email into a file in the data folder\n",
    "for msg in msgs:\n",
    "    store_message_in_file(msg[0][1])"
   ]
  },
  {
   "cell_type": "code",
   "execution_count": 12,
   "metadata": {},
   "outputs": [
    {
     "data": {
      "text/plain": [
       "'Anti-Israel furore: so who else was at Labour meeting?'"
      ]
     },
     "execution_count": 12,
     "metadata": {},
     "output_type": "execute_result"
    }
   ],
   "source": [
    "email[\"Subject\"]"
   ]
  },
  {
   "cell_type": "code",
   "execution_count": 25,
   "metadata": {},
   "outputs": [
    {
     "data": {
      "text/plain": [
       "'Wed, 14 Feb 2024 12:36:29 -0500 (EST)'"
      ]
     },
     "execution_count": 25,
     "metadata": {},
     "output_type": "execute_result"
    }
   ],
   "source": [
    "email[\"Date\"]"
   ]
  },
  {
   "cell_type": "code",
   "execution_count": 30,
   "metadata": {},
   "outputs": [
    {
     "name": "stdout",
     "output_type": "stream",
     "text": [
      "2024-02-14T12:36:29-05:00\n"
     ]
    }
   ],
   "source": [
    "from datetime import datetime\n",
    "\n",
    "# Your input string\n",
    "date_string = email[\"Date\"]\n",
    "\n",
    "# Convert string to datetime object\n",
    "datetime_obj = datetime.strptime(date_string, '%a, %d %b %Y %H:%M:%S %z (EST)')\n",
    "\n",
    "# Convert datetime object to ISO-formatted string\n",
    "iso_formatted_string = datetime_obj.isoformat()\n",
    "\n",
    "print(iso_formatted_string)"
   ]
  },
  {
   "cell_type": "code",
   "execution_count": 49,
   "metadata": {},
   "outputs": [
    {
     "data": {
      "text/plain": [
       "True"
      ]
     },
     "execution_count": 49,
     "metadata": {},
     "output_type": "execute_result"
    }
   ],
   "source": [
    "import os.path\n",
    "test = \"newsletter_5pm_240308\"\n"
   ]
  },
  {
   "cell_type": "code",
   "execution_count": 35,
   "metadata": {},
   "outputs": [],
   "source": [
    "news_date = datetime_obj.strftime(\"%y%m%d\")"
   ]
  },
  {
   "cell_type": "code",
   "execution_count": 38,
   "metadata": {},
   "outputs": [
    {
     "data": {
      "text/plain": [
       "'data/newsletter_5pm_240214.html'"
      ]
     },
     "execution_count": 38,
     "metadata": {},
     "output_type": "execute_result"
    }
   ],
   "source": [
    "html_filename = f\"data/newsletter_5pm_{news_date}.html\"\n",
    "html_filename\n"
   ]
  },
  {
   "cell_type": "code",
   "execution_count": 14,
   "metadata": {},
   "outputs": [
    {
     "data": {
      "text/plain": [
       "[<email.message.Message at 0x1201077d0>,\n",
       " <email.message.Message at 0x125c5f910>]"
      ]
     },
     "execution_count": 14,
     "metadata": {},
     "output_type": "execute_result"
    }
   ],
   "source": [
    "email.get_payload()"
   ]
  },
  {
   "cell_type": "code",
   "execution_count": 15,
   "metadata": {},
   "outputs": [],
   "source": [
    "if email.is_multipart():\n",
    "  for part in email.walk():\n",
    "    content_type = part.get_content_type()\n",
    "    if content_type == \"text/html\":\n",
    "      html = part.get_payload(decode=True).decode()"
   ]
  },
  {
   "cell_type": "code",
   "execution_count": 16,
   "metadata": {},
   "outputs": [
    {
     "data": {
      "text/plain": [
       "'<!DOCTYPE HTML PUBLIC \"-//W3C//DTD HTML 4.01 Transitional//EN\" \"http://www.w3.org/TR/html4/loose.dtd\">\\r\\n<html lang=\"en\">\\r\\n<head>\\r\\n<meta name=\"viewport\" content=\"width=device-width, initial-scale=1\">\\r\\n<meta http-equiv=\"Content-Type\" content=\"text/html charset=UTF-8\" />\\r\\n<meta name=\"x-apple-disable-message-reformatting\">\\r\\n<meta content=\"telephone=no\" name=\"format-detection\">\\r\\n<style type=\"text/css\">\\r\\n*,\\r\\n*:after,\\r\\n*:before {\\r\\n-webkit-box-sizing: border-box;\\r\\n-moz-box-sizing: border-box;\\r\\nbox-sizing: border-box;\\r\\n}\\r\\n* {\\r\\n-ms-text-size-adjust: 100%;\\r\\n-webkit-text-size-adjust: 100%;\\r\\n}\\r\\nhtml,\\r\\nbody,\\r\\n.document {\\r\\nwidth: 100% !important;\\r\\nheight: 100% !important;\\r\\nmargin: 0;\\r\\npadding: 0;\\r\\nfont-family: Georgia, Times New Roman, serif;\\r\\n}\\r\\nbody {\\r\\n-webkit-font-smoothing: antialiased;\\r\\n-moz-osx-font-smoothing: grayscale;\\r\\ntext-rendering: optimizeLegibility;\\r\\n}\\r\\ndiv[style*=\"margin: 16px 0\"] {\\r\\nmargin: 0 !important;\\r\\n}\\r\\ntable,\\r\\ntd {\\r\\nmso-table-lspace: 0pt;\\r\\nmso-table-rspace: 0pt;\\r\\n}\\r\\ntable {\\r\\nborder-spacing: 0;\\r\\nborder-collapse: collapse;\\r\\ntable-layout: fixed;\\r\\nmargin: 0 auto;\\r\\n}\\r\\nimg {\\r\\n-ms-interpolation-mode: bicubic;\\r\\nmax-width: 100%;\\r\\nborder: 0;\\r\\n}\\r\\n*[x-apple-data-detectors] {\\r\\ncolor: inherit !important;\\r\\ntext-decoration: none !important;\\r\\n}\\r\\n.x-gmail-data-detectors,\\r\\n.x-gmail-data-detectors *,\\r\\n.aBn {\\r\\nborder-bottom: 0 !important;\\r\\ncursor: default !important;\\r\\n}\\r\\n.btn {\\r\\n-webkit-transition: all 200ms ease;\\r\\ntransition: all 200ms ease;\\r\\n}\\r\\n.btn:hover {\\r\\nbackground-color: dodgerblue;\\r\\n}\\r\\n/*a:-webkit-any-link */\\r\\n@media screen and (max-width: 750px) {\\r\\n.container {\\r\\nwidth: 100%;\\r\\nmargin: auto;\\r\\n}\\r\\n.stack {\\r\\ndisplay: block;\\r\\nwidth: 100%;\\r\\nmax-width: 100%;\\r\\n}\\r\\n}\\r\\n</style>\\r\\n<style type=\"text/css\">\\r\\n@font-face {\\r\\nfont-family: \\'Open Sans\\';\\r\\nfont-style: normal;\\r\\nfont-weight: 600;\\r\\nfont-display: swap;\\r\\nsrc: local(\\'Open Sans SemiBold\\'), local(\\'OpenSans-SemiBold\\'), url(https://assets.glide.mailplus.co.uk/prod/assets/OpenSansSemiBold.ba5cde21eeea0d57ab7efefc99596cce.ttf) format(\\'ttf\\');\\r\\nunicode-range: U+0100-024F, U+0259, U+1E00-1EFF, U+2020, U+20A0-20AB, U+20AD-20CF, U+2113, U+2C60-2C7F, U+A720-A7FF;\\r\\n}\\r\\n@font-face {\\r\\nfont-family: \\'Merriweather-Black\\';\\r\\nfont-weight: bold;\\r\\nfont-style: normal;\\r\\nsrc: url(https://assets.glide.mailplus.co.uk/prod/assets/Merriweather-Black.a4a36d277b2e11e547906c2d67d5f7c7.woff);\\r\\nmso-font-alt: \\'Arial\\';\\r\\n}\\r\\n@font-face {\\r\\nfont-family: Merriweather-Light;\\r\\nfont-weight: normal;\\r\\nfont-style: normal;\\r\\nsrc: url(https://assets.glide.mailplus.co.uk/prod/assets/Merriweather-Light.938750e24d265b1b5e6a0be9b8f5720c.woff) ;\\r\\n}\\r\\n@font-face {\\r\\nfont-family: Merriweather-Light;\\r\\nfont-weight: normal;\\r\\nfont-style: italic;\\r\\nsrc: url(https://assets.glide.mailplus.co.uk/prod/assets/Merriweather-LightItalic.242fe31d8418870d7c736724034fa430.woff) ;\\r\\n}\\r\\n</style>\\r\\n<style type=\"text/css\">\\r\\nhtml,\\r\\nbody {\\r\\nfont-family: Merriweather-Light, Georgia, Times New Roman, serif;\\r\\nfont-size: 22px !important;\\r\\n}\\r\\ntd{\\r\\npadding-top: 0px !important;\\r\\npadding-bottom: 0px !important;\\r\\n}\\r\\nh1, h2, h3, h4, h5, h6 {\\r\\nmargin: 0;\\r\\npadding: 0;\\r\\n}\\r\\nh1 {\\r\\nfont-family: Merriweather-Black, Georgia, Times New Roman, serif;\\r\\nmargin: 40px 0 10px 0;\\r\\nfont-size: 50px !important;\\r\\nline-height: 0.9em !important;\\r\\nfont-weight: normal;\\r\\ncolor: #000;\\r\\ntext-transform: uppercase;\\r\\n}\\r\\nh2 {\\r\\nfont-family: Merriweather-Black, Georgia, Times New Roman, serif;\\r\\nfont-size: 28px !important;\\r\\nfont-weight: normal;\\r\\nmargin: 30px 0 0 0;\\r\\n}\\r\\n.feature-top-stories h2 {\\r\\nfont-size: 28px !important;\\r\\n}\\r\\nh3 {\\r\\nfont-family: Merriweather-Black, Georgia, Times New Roman, serif;\\r\\nfont-size: 24px !important;\\r\\nline-height: 1.2em !important;\\r\\ncolor: #263238;\\r\\nfont-weight: bold;\\r\\nmargin: 30px 0 5px 0;\\r\\n}\\r\\nh4 {\\r\\nfont-size: 20px !important;\\r\\nfont-family: Merriweather-Black, Georgia, Times New Roman, serif;\\r\\nfont-weight: bold;\\r\\nline-height: 1.5em !important;\\r\\n}\\r\\nh2 + h3 {\\r\\nmargin-top: 10px;\\r\\n}\\r\\nh1 + h2 {\\r\\nmargin-top: 0;\\r\\n}\\r\\nh2 + h1 {\\r\\nmargin-top: 0;\\r\\n}\\r\\np {\\r\\nmargin: 0 0 10px 0;\\r\\nfont-size: 22px;\\r\\n}\\r\\ndiv {\\r\\nfont-size: 22px;\\r\\n}\\r\\n.footer p {\\r\\nfont-size: 16px;\\r\\n}\\r\\nh4 + p {\\r\\nmargin-top: 10px;\\r\\n}\\r\\nhr + h3 {\\r\\nmargin-top: 10px;\\r\\n}\\r\\nhr+div>h3 {\\r\\nmargin-top: 10px;\\r\\n}\\r\\nul {\\r\\nmargin: 0;\\r\\npadding: 0;\\r\\nlist-style-position: inside;\\r\\n}\\r\\n.body-content{\\r\\npadding-bottom: 10px !important;\\r\\n}\\r\\n.caption {\\r\\nfont-family: \"Open Sans\", sans-serif;\\r\\nfont-size: 18px !important;\\r\\npadding-bottom: 1em !important;\\r\\nmargin-top: 0px !important;\\r\\n}\\r\\nh3 a {\\r\\nfont-family: Merriweather-Black, Georgia, Times New Roman, serif;\\r\\nfont-weight: bold;\\r\\n}\\r\\nh4.date-line {\\r\\nfont-family: \"Open Sans\", sans-serif;\\r\\nfont-weight: 600;\\r\\ntext-align: center;\\r\\nfont-size: 18px !important;\\r\\nmargin-bottom: 10px;\\r\\n}\\r\\ntable.image-wrapper + h3 {\\r\\nmargin-top: 0;\\r\\n}\\r\\na,\\r\\na:active,\\r\\na:hover,\\r\\na:visited {\\r\\ntext-decoration: none;\\r\\ncolor: black !important;\\r\\n}\\r\\np a.read-cta {\\r\\nfont-size: 16px !important;\\r\\ncolor: #46606c !important;\\r\\nfont-weight: bold;\\r\\ntext-decoration: none !important;\\r\\nfont-family: \"Open Sans Bold\", sans-serif;\\r\\n}\\r\\np a.read-cta:after {\\r\\ncontent: \"\\\\25BA\";\\r\\ncolor: #cc0033;\\r\\nmargin-left: 5px;\\r\\n}\\r\\np a {\\r\\ntext-decoration: underline;\\r\\ncolor: black;\\r\\n}\\r\\np {\\r\\nmargin-bottom: 10px;\\r\\n}\\r\\nhr {\\r\\nborder: none;\\r\\nborder-top: 1px solid black;\\r\\nmargin: 0;\\r\\nmargin-top: 10px;\\r\\nmargin-bottom: 10px;\\r\\n}\\r\\ntd.promo-box>h3 {\\r\\nmargin-top: 0;\\r\\n}\\r\\n.topic-tag {\\r\\nfont-family: \\'Open Sans\\', Verdana, Arial, sans-serif;\\r\\nfont-weight: bold !important;\\r\\ntext-transform: uppercase;\\r\\npadding: 3px 15px 3px 15px;\\r\\nline-height: 20px;\\r\\nfont-size: 17px;\\r\\nletter-spacing: 3.4px;\\r\\ndisplay: inline-block;\\r\\nborder: 1px solid #000000;\\r\\ncolor: #000000;\\r\\n}\\r\\n.footer {\\r\\nmargin-top: 20px;\\r\\nfont-size: 14px;\\r\\nline-height: inherit;\\r\\n}\\r\\n.footer p a {\\r\\ncolor: inherit !important;\\r\\nfont-size: inherit !important;\\r\\n}\\r\\n.footer p a:after {\\r\\ncontent: none;\\r\\n}\\r\\n@media only screen and (max-width:576px) {\\r\\n.feature-top-stories h2 {\\r\\nfont-size: 36px !important;\\r\\n}\\r\\nh2 {\\r\\nfont-size: 36px !important;\\r\\n}\\r\\np, div span, div em {\\r\\nfont-size: 30px;\\r\\n}\\r\\n.topic-tag {\\r\\nfont-size: 21px;\\r\\n}\\r\\np a.read-cta {\\r\\nfont-size: 22px !important;\\r\\n}\\r\\n}\\r\\n</style>\\r\\n<!-- mso and ie patch -->\\r\\n<!--[if gte mso 9]>\\r\\n<style type=\"text/css\">\\r\\nhtml, body{\\r\\n/* mso-line-height-rule:exactly; */\\r\\nline-height: 1.5em;\\r\\n}\\r\\nh1{\\r\\nfont-family: \"Franklin Gothic Medium\", \"Franklin Gothic\", \"ITC Franklin Gothic\", \"Arial Black\", \"Arial Bold\", sans-serif;\\r\\nmso-line-height-rule:exactly;\\r\\nline-height: 2.8em !important;\\r\\nletter-spacing: -2px;\\r\\nmargin-top: 10px !important;\\r\\nfont-size: 40px;\\r\\n}\\r\\nh2{\\r\\nfont-family: \"Franklin Gothic Medium\", \"Franklin Gothic\", \"ITC Franklin Gothic\", \"Arial Black\", \"Arial Bold\", sans-serif;\\r\\nmso-line-height-rule:exactly;\\r\\nline-height: 2.2em !important;\\r\\nfont-size: 28px;\\r\\nletter-spacing: -1px;\\r\\n}\\r\\nh3{\\r\\nmargin-top: 10px !important;\\r\\nmargin-bottom: 15px !important;\\r\\nletter-spacing: -1px;\\r\\n}\\r\\ntable.image-wrapper + h3 {\\r\\nmargin-top:0 !important;\\r\\nmargin-bottom: 0 !important;\\r\\n}\\r\\nh4{\\r\\nfont-size: 18px !important;\\r\\n}\\r\\nimg{\\r\\nmargin-top: 10px !important;\\r\\nmargin-bottom: 10px !important;\\r\\n}\\r\\n.caption{\\r\\nfont-size: 16px !important;\\r\\n}\\r\\n</style>\\r\\n<![endif]-->\\r\\n<!-- mso and ie patch ENDS-->\\r\\n<!-- mso and ie patch -->\\r\\n<!--[if lt mso 9]>\\r\\n<style type=\"text/css\">\\r\\nh1{\\r\\nmso-line-height-rule:exactly;\\r\\nline-height: 10em;\\r\\n}\\r\\n</style>\\r\\n<![endif]-->\\r\\n<!-- mso and ie patch ENDS-->\\r\\n<style type=\"text/css\">\\r\\n@media only screen and (max-device-width: 768px) {\\r\\n.body-content {\\r\\npadding:0 20px 80px 20px!important;\\r\\n}\\r\\n}\\r\\n@media only screen and (max-device-width: 320px) {\\r\\n.body-content {\\r\\npadding:0 10px 80px 10px!important;\\r\\n}\\r\\n}\\r\\n</style>\\r\\n</head>\\r\\n<body style=\"background-color: #bbbbbb;\">\\r\\n<span class=\"preheader\" style=\"color: transparent;  display: none;  height: 0;  max-height: 0;  max-width: 0;  opacity: 0;  overflow: hidden;  mso-hide: all;  visibility: hidden;  width: 0;\"> PLUS: Sussexes jet off to Canada for Invictus launch as website rumpus rumbles on </span>\\r\\n<table width=\"590\" align=\"center\" border=\"0\" cellspacing=\"0\" cellpadding=\"0\" style=\"background-color: white\">\\r\\n<tr>\\r\\n<td>\\r\\n<table width=\"100%\" style=\"padding: 0; margin-bottom: 0px\" class=\"image-wrapper\">\\r\\n<tr>\\r\\n<td style=\"padding: 0px 0 0px 0\">\\r\\n<a href=\"https://link-replica.mailplus.co.uk/click/34349478.127799/aHR0cHM6Ly93d3cubWFpbHBsdXMuY28udWsvbGluay9pbi1hcHAtYnJvd3Nlci9uZXdzbGV0dGVycy81cG0tbmV3c2xldHRlci8zNDM5MjAvYW50aS1pc3JhZWwtZnVyb3JlLXNvLXdoby1lbHNlLXdhcy1hdC1sYWJvdXItbWVldGluZz91dG1fc291cmNlPW5ld3NsZXR0ZXImdXRtX21lZGl1bT1lbWFpbCZ1dG1fY2FtcGFpZ249TU4tTWFpbFBsdXMtQnJpZWZpbmdzLTI0MDIxNF9CUjVfTkVXU0xFVFRFUiZzaWduaW49YXV0byM/65ccb5bc8e50e1c63703ea6bBc6808949\" style=\"margin:0\">\\r\\n<img alt=\"\" src=\"https://media.glide.mailplus.co.uk/prod/images/gm_preview/02743d707201-tmnewsletter5pmbillbowkett.jpg\" width=\"590\" style=\"width: 100%; max-width: 590px;margin:0px 0 0px 0\" />\\r\\n</a>\\r\\n</td>\\r\\n</tr>\\r\\n</table>\\r\\n<table width=\"550\" align=\"center\" border=\"0\" cellspacing=\"0\" cellpadding=\"20\">\\r\\n<tr>\\r\\n<td class=\"body-content\">\\r\\n<h4 class=\"date-line\">Wednesday, February 14, 2024</h4>\\r\\n<h4 style=\"font-family: Merriweather-Black, Georgia, Times New Roman, serif;\\r\\nfont-weight: normal !important;\\r\\nmargin: 0\"></h4>\\r\\n<div id=\"eNoDCw1pwFo\" class=\"fr-embedded\"><p id=\"es3v0Y2vqAOI\">Good evening,</p><p id=\"eUE-5ftxNOyF\">In tonight\\'s 5pm briefing Labour is under intense pressure to come clean over who attended an infamous meeting in Rochdale where party members made vile anti-Israel remarks, the Duke and Duchess of Sussex have flown to Canada on a gas-guzzling private jet to promote next year’s Invictus Games amid an ongoing fallout over their website’s rebrand, and Beyoncé oozes country cool at New York Fashion Week...</p><div id=\"e5pPfFhI4i2i\" class=\"fr-embedded\">\\r\\n<table class=\"feature-top-stories\" style=\"margin-top: 30px; width: 100%\">\\r\\n<tr>\\r\\n<td class=\"content-padded\" align=\"center\" style=\"padding: 0;\\r\\ntext-align: center;\">\\r\\n<table width=\"100%\" cellpadding=\"0\" cellspacing=\"0\" border=\"0\" style=\"margin-bottom: 10px\">\\r\\n<tr>\\r\\n<td style=\"text-align: center; padding: 20px 0 5px 0;\"><span class=\"topic-tag\">TONIGHT&#x27;S TOP STORIES</span></td>\\r\\n</tr>\\r\\n</table>\\r\\n</td>\\r\\n</tr>\\r\\n<tr><td data-y=\"HI:hi\">\\r\\n<table width=\"100%\" style=\"padding: 0; margin-bottom: 5px\" class=\"image-wrapper\">\\r\\n<tr>\\r\\n<td style=\"padding: 5px 0 5px 0\">\\r\\n<a href=\"https://link-replica.mailplus.co.uk/click/34349478.127799/aHR0cHM6Ly93d3cubWFpbHBsdXMuY28udWsvbGluay9pbi1hcHAtYnJvd3Nlci9lZGl0aW9uL25ld3MvMzQzOTMxL2FudGktaXNyYWVsLWZ1cm9yZS1zby13aG8tZWxzZS13YXMtYXQtbGFib3VyLW1lZXRpbmc_dXRtX3NvdXJjZT1uZXdzbGV0dGVyJnV0bV9tZWRpdW09ZW1haWwmdXRtX2NhbXBhaWduPU1OLU1haWxQbHVzLUJyaWVmaW5ncy0yNDAyMTRfQlI1X05FV1NMRVRURVImc2lnbmluPWF1dG8/65ccb5bc8e50e1c63703ea6bBfd5043c1\" style=\"margin:0\">\\r\\n<img alt=\"\" src=\"https://media.glide.mailplus.co.uk/prod/images/gm_preview/1d185ae3289d-header5208975.jpg\" width=\"550\" style=\"width: 100%; max-width: 550px;margin:5px 0 5px 0\" />\\r\\n</a>\\r\\n</td>\\r\\n</tr>\\r\\n</table>\\r\\n</td></tr>\\r\\n<tr>\\r\\n<td class=\"content-padded\" style=\"font-family: Merriweather-Light, serif; padding:0 0 8px 0;\">\\r\\n<a href=\"https://link-replica.mailplus.co.uk/click/34349478.127799/aHR0cHM6Ly93d3cubWFpbHBsdXMuY28udWsvbGluay9pbi1hcHAtYnJvd3Nlci9lZGl0aW9uL25ld3MvMzQzOTMxL2FudGktaXNyYWVsLWZ1cm9yZS1zby13aG8tZWxzZS13YXMtYXQtbGFib3VyLW1lZXRpbmc_dXRtX3NvdXJjZT1uZXdzbGV0dGVyJnV0bV9tZWRpdW09ZW1haWwmdXRtX2NhbXBhaWduPU1OLU1haWxQbHVzLUJyaWVmaW5ncy0yNDAyMTRfQlI1X05FV1NMRVRURVImc2lnbmluPWF1dG8/65ccb5bc8e50e1c63703ea6bCfd5043c1\" style=\"margin:0\">\\r\\n<h2 style=\"margin:0 0 0 0\">Anti-Israel furore: So who else was at Labour meeting?\\r\\n</h2>\\r\\n</a>\\r\\n</td>\\r\\n</tr>\\r\\n<tr><td style=\"padding-bottom: 20px !important;\"></td></tr>\\r\\n<tr><td data-y=\"HI:hi\">\\r\\n<table width=\"100%\" style=\"padding: 0; margin-bottom: 5px\" class=\"image-wrapper\">\\r\\n<tr>\\r\\n<td style=\"padding: 5px 0 5px 0\">\\r\\n<a href=\"https://link-replica.mailplus.co.uk/click/34349478.127799/aHR0cHM6Ly93d3cubWFpbHBsdXMuY28udWsvbGluay9pbi1hcHAtYnJvd3Nlci9lZGl0aW9uL25ld3MvMzQzOTQ0L3N1c3NleGVzLWpldC1vZmYtdG8tY2FuYWRhLWZvci1pbnZpY3R1cy1sYXVuY2gtYXMtd2Vic2l0ZS1ydW1wdXMtcnVtYmxlcy1vbj91dG1fc291cmNlPW5ld3NsZXR0ZXImdXRtX21lZGl1bT1lbWFpbCZ1dG1fY2FtcGFpZ249TU4tTWFpbFBsdXMtQnJpZWZpbmdzLTI0MDIxNF9CUjVfTkVXU0xFVFRFUiZzaWduaW49YXV0bw/65ccb5bc8e50e1c63703ea6bB39b94abd\" style=\"margin:0\">\\r\\n<img alt=\"\" src=\"https://media.glide.mailplus.co.uk/prod/images/gm_preview/1747c5461433-header5208969.jpg\" width=\"550\" style=\"width: 100%; max-width: 550px;margin:5px 0 5px 0\" />\\r\\n</a>\\r\\n</td>\\r\\n</tr>\\r\\n</table>\\r\\n</td></tr>\\r\\n<tr>\\r\\n<td class=\"content-padded\" style=\"font-family: Merriweather-Light, serif; padding:0 0 8px 0;\">\\r\\n<a href=\"https://link-replica.mailplus.co.uk/click/34349478.127799/aHR0cHM6Ly93d3cubWFpbHBsdXMuY28udWsvbGluay9pbi1hcHAtYnJvd3Nlci9lZGl0aW9uL25ld3MvMzQzOTQ0L3N1c3NleGVzLWpldC1vZmYtdG8tY2FuYWRhLWZvci1pbnZpY3R1cy1sYXVuY2gtYXMtd2Vic2l0ZS1ydW1wdXMtcnVtYmxlcy1vbj91dG1fc291cmNlPW5ld3NsZXR0ZXImdXRtX21lZGl1bT1lbWFpbCZ1dG1fY2FtcGFpZ249TU4tTWFpbFBsdXMtQnJpZWZpbmdzLTI0MDIxNF9CUjVfTkVXU0xFVFRFUiZzaWduaW49YXV0bw/65ccb5bc8e50e1c63703ea6bC39b94abd\" style=\"margin:0\">\\r\\n<h2 style=\"margin:0 0 0 0\">Sussexes jet off to Canada for Invictus launch as website rumpus rumbles on\\r\\n</h2>\\r\\n</a>\\r\\n</td>\\r\\n</tr>\\r\\n<tr><td style=\"padding-bottom: 20px !important;\"></td></tr>\\r\\n<tr><td data-y=\"HI:hi\">\\r\\n<table width=\"100%\" style=\"padding: 0; margin-bottom: 5px\" class=\"image-wrapper\">\\r\\n<tr>\\r\\n<td style=\"padding: 5px 0 5px 0\">\\r\\n<a href=\"https://link-replica.mailplus.co.uk/click/34349478.127799/aHR0cHM6Ly93d3cubWFpbHBsdXMuY28udWsvbGluay9pbi1hcHAtYnJvd3Nlci9lZGl0aW9uL25ld3MvMzQzOTMyL3llZS1oYXctcmhpbmVzdG9uZS1jb3dnaXJsLWJleW9uY2Utb24tYS1uaWdodC1vdXQtd2l0aC1oZXItbW9tP3V0bV9zb3VyY2U9bmV3c2xldHRlciZ1dG1fbWVkaXVtPWVtYWlsJnV0bV9jYW1wYWlnbj1NTi1NYWlsUGx1cy1CcmllZmluZ3MtMjQwMjE0X0JSNV9ORVdTTEVUVEVSJnNpZ25pbj1hdXRv/65ccb5bc8e50e1c63703ea6bB28784ee2\" style=\"margin:0\">\\r\\n<img alt=\"\" src=\"https://media.glide.mailplus.co.uk/prod/images/gm_preview/2894423623ab-header5208915.jpg\" width=\"550\" style=\"width: 100%; max-width: 550px;margin:5px 0 5px 0\" />\\r\\n</a>\\r\\n</td>\\r\\n</tr>\\r\\n</table>\\r\\n</td></tr>\\r\\n<tr>\\r\\n<td class=\"content-padded\" style=\"font-family: Merriweather-Light, serif; padding:0 0 8px 0;\">\\r\\n<a href=\"https://link-replica.mailplus.co.uk/click/34349478.127799/aHR0cHM6Ly93d3cubWFpbHBsdXMuY28udWsvbGluay9pbi1hcHAtYnJvd3Nlci9lZGl0aW9uL25ld3MvMzQzOTMyL3llZS1oYXctcmhpbmVzdG9uZS1jb3dnaXJsLWJleW9uY2Utb24tYS1uaWdodC1vdXQtd2l0aC1oZXItbW9tP3V0bV9zb3VyY2U9bmV3c2xldHRlciZ1dG1fbWVkaXVtPWVtYWlsJnV0bV9jYW1wYWlnbj1NTi1NYWlsUGx1cy1CcmllZmluZ3MtMjQwMjE0X0JSNV9ORVdTTEVUVEVSJnNpZ25pbj1hdXRv/65ccb5bc8e50e1c63703ea6bC28784ee2\" style=\"margin:0\">\\r\\n<h2 style=\"margin:0 0 0 0\">Yee-haw! Rhinestone cowgirl Beyonce on a night out with her mom\\r\\n</h2>\\r\\n</a>\\r\\n</td>\\r\\n</tr>\\r\\n</table>\\r\\n</div><hr id=\"e3e1DgywPPIG\" /><p style=\"text-align: center;\" id=\"ec9aL-K6vQq3\"><strong id=\"eEcWDZ1_YNG8\">Tonight\\'s other headlines</strong></p><p id=\"e7GnqNzetVLT\" class=\"\"><strong id=\"ed_hlKyInQ\">Transport</strong><span>: </span>\\r\\n<a href=\"https://link-replica.mailplus.co.uk/click/34349478.127799/aHR0cHM6Ly93d3cubWFpbHBsdXMuY28udWsvbGluay9pbi1hcHAtYnJvd3Nlci9lZGl0aW9uL25ld3MvMzQzOTM0L3RyYWluLWRyaXZlcnMtYmFjay1tb3JlLXN0cmlrZS1taXNlcnk_dXRtX3NvdXJjZT1uZXdzbGV0dGVyJnV0bV9tZWRpdW09ZW1haWwmdXRtX2NhbXBhaWduPU1OLU1haWxQbHVzLUJyaWVmaW5ncy0yNDAyMTRfQlI1X05FV1NMRVRURVImc2lnbmluPWF1dG8/65ccb5bc8e50e1c63703ea6bB05520973\" style=\"margin:0\">Train drivers back more strike misery</a></p><p id=\"eTNqpb1lNfr\" class=\"\"><strong id=\"e4R7m4YwKa\">Home Affairs</strong><span>: </span>\\r\\n<a href=\"https://link-replica.mailplus.co.uk/click/34349478.127799/aHR0cHM6Ly93d3cubWFpbHBsdXMuY28udWsvbGluay9pbi1hcHAtYnJvd3Nlci9lZGl0aW9uL25ld3MvMzQzOTMzL2Nyb3NzYm93LW93bmVycy1tYXktbmVlZC1saWNlbmNlP3V0bV9zb3VyY2U9bmV3c2xldHRlciZ1dG1fbWVkaXVtPWVtYWlsJnV0bV9jYW1wYWlnbj1NTi1NYWlsUGx1cy1CcmllZmluZ3MtMjQwMjE0X0JSNV9ORVdTTEVUVEVSJnNpZ25pbj1hdXRv/65ccb5bc8e50e1c63703ea6bB8f8f807f\" style=\"margin:0\">Crossbow owners may need licence</a></p><p id=\"ePi7Dq6LItri\" class=\"\"><strong id=\"ek4bpDgI67\">Crime</strong><span>: </span>\\r\\n<a href=\"https://link-replica.mailplus.co.uk/click/34349478.127799/aHR0cHM6Ly93d3cubWFpbHBsdXMuY28udWsvbGluay9pbi1hcHAtYnJvd3Nlci9lZGl0aW9uL25ld3MvMzQzOTM1L21pbGxpb25haXJlLWNvdXBsZS1raWxsZWQtYnktZmVudGFueWw_dXRtX3NvdXJjZT1uZXdzbGV0dGVyJnV0bV9tZWRpdW09ZW1haWwmdXRtX2NhbXBhaWduPU1OLU1haWxQbHVzLUJyaWVmaW5ncy0yNDAyMTRfQlI1X05FV1NMRVRURVImc2lnbmluPWF1dG8/65ccb5bc8e50e1c63703ea6bB9a9af5b1\" style=\"margin:0\">Millionaire couple ‘killed by fentanyl’</a></p><p id=\"eMEmOu_YpZuC\" class=\"\"><strong id=\"eBUCuxz2b5\">Science</strong><span>: </span>\\r\\n<a href=\"https://link-replica.mailplus.co.uk/click/34349478.127799/aHR0cHM6Ly93d3cubWFpbHBsdXMuY28udWsvbGluay9pbi1hcHAtYnJvd3Nlci9lZGl0aW9uL25ld3MvMzQzOTM2L2xhYi1ncm93cy1iZWVmLWluc2lkZS1ncmFpbi1vZi1yaWNlP3V0bV9zb3VyY2U9bmV3c2xldHRlciZ1dG1fbWVkaXVtPWVtYWlsJnV0bV9jYW1wYWlnbj1NTi1NYWlsUGx1cy1CcmllZmluZ3MtMjQwMjE0X0JSNV9ORVdTTEVUVEVSJnNpZ25pbj1hdXRv/65ccb5bc8e50e1c63703ea6bBaaf80230\" style=\"margin:0\">Lab grows beef inside grain of rice</a></p><p id=\"e8jfLqR7udM1\" class=\"\"><strong id=\"ewqzcDjmfF\">Society</strong><span>: </span>\\r\\n<a href=\"https://link-replica.mailplus.co.uk/click/34349478.127799/aHR0cHM6Ly93d3cubWFpbHBsdXMuY28udWsvbGluay9pbi1hcHAtYnJvd3Nlci9lZGl0aW9uL25ld3MvMzQzOTQzL3Jvdy1hcy1ueS1jcml0aWMtdGFrZXMtcG90c2hvdC1hdC1sb25kb25zLW9kZC1qYXJyaW5nLXNreWxpbmU_dXRtX3NvdXJjZT1uZXdzbGV0dGVyJnV0bV9tZWRpdW09ZW1haWwmdXRtX2NhbXBhaWduPU1OLU1haWxQbHVzLUJyaWVmaW5ncy0yNDAyMTRfQlI1X05FV1NMRVRURVImc2lnbmluPWF1dG8/65ccb5bc8e50e1c63703ea6bB37a9f0b5\" style=\"margin:0\">Row as NY critic takes potshot at London’s ‘odd, jarring’ skyline \\xa0</a></p><hr id=\"ebCTQbsfW8Le\" /><p id=\"eF0FE99HvvLa\" class=\"\"><strong id=\"e3MClrJWh2GF\">Daily poll</strong><span>: </span>\\r\\n<a href=\"https://link-replica.mailplus.co.uk/click/34349478.127799/aHR0cHM6Ly93d3cubWFpbHBsdXMuY28udWsvbGluay9pbi1hcHAtYnJvd3Nlci9lZGl0aW9uL25ld3Mvcm95YWxzLzM0MzkxOC9zaG91bGQtaGFycnktYW5kLW1lZ2hhbnMtbmV3LXN1c3NleC5jb20td2Vic2l0ZS1iZS1zaHV0LWRvd24_dXRtX3NvdXJjZT1uZXdzbGV0dGVyJnV0bV9tZWRpdW09ZW1haWwmdXRtX2NhbXBhaWduPU1OLU1haWxQbHVzLUJyaWVmaW5ncy0yNDAyMTRfQlI1X05FV1NMRVRURVImc2lnbmluPWF1dG8/65ccb5bc8e50e1c63703ea6bBe2836c08\" style=\"margin:0\">Should Harry and Meghan&#x27;s new Sussex.com website be shut down?</a></p><hr id=\"efS9zafsS5nw\" /><p id=\"eq_c6S7vmFPh\" class=\"\"><strong id=\"eExwar_clSq7\">Listen</strong><span>: </span>\\r\\n<a href=\"https://link-replica.mailplus.co.uk/click/34349478.127799/aHR0cHM6Ly93d3cubWFpbHBsdXMuY28udWsvbGluay9pbi1hcHAtYnJvd3Nlci9yYWRpbz91dG1fc291cmNlPW5ld3NsZXR0ZXImdXRtX21lZGl1bT1lbWFpbCZ1dG1fY2FtcGFpZ249TU4tTWFpbFBsdXMtQnJpZWZpbmdzLTI0MDIxNF9CUjVfTkVXU0xFVFRFUiZzaWduaW49YXV0bw/65ccb5bc8e50e1c63703ea6bB6568f9c4\" style=\"margin:0\">The Trial: Constance Marten and Mark Gordon</a></p><hr id=\"e5sJgQVMJSv2\" /><p id=\"eh1JaRE0QJtg\" class=\"\"></p><div id=\"en1XHqRn9gqq\" class=\"fr-embedded\">\\r\\n<table class=\"feature-top-stories\" style=\"margin-top: 30px; width: 100%\">\\r\\n<tr>\\r\\n<td class=\"content-padded\" align=\"center\" style=\"padding: 0;\\r\\ntext-align: center;\">\\r\\n<table width=\"100%\" cellpadding=\"0\" cellspacing=\"0\" border=\"0\" style=\"margin-bottom: 10px\">\\r\\n<tr>\\r\\n<td style=\"text-align: center; padding: 20px 0 5px 0;\"><span class=\"topic-tag\">THE REACTION</span></td>\\r\\n</tr>\\r\\n</table>\\r\\n</td>\\r\\n</tr>\\r\\n<tr><td data-y=\"YT:vi\">\\r\\n<table width=\"100%\" style=\"padding: 0; margin-bottom: 5px\" class=\"image-wrapper\">\\r\\n<tr>\\r\\n<td style=\"padding: 5px 0 5px 0\">\\r\\n<a href=\"https://link-replica.mailplus.co.uk/click/34349478.127799/aHR0cHM6Ly93d3cubWFpbHBsdXMuY28udWsvbGluay9pbi1hcHAtYnJvd3Nlci92aWRlby90aGUtcmVhY3Rpb24vMzQzOTI3L3N0cmlwLXRoZW0tb2YtdGhlaXItdGl0bGVzLW5vdy1zYXJhaC12aW5lLW9uLWhvdy10by1zdG9wLWhhcnJ5LW1lZ2hhbnMtbm9uc2Vuc2U_dXRtX3NvdXJjZT1uZXdzbGV0dGVyJnV0bV9tZWRpdW09ZW1haWwmdXRtX2NhbXBhaWduPU1OLU1haWxQbHVzLUJyaWVmaW5ncy0yNDAyMTRfQlI1X05FV1NMRVRURVImc2lnbmluPWF1dG8/65ccb5bc8e50e1c63703ea6bB05b2d486\" style=\"margin:0\">\\r\\n<img alt=\"\" src=\"https://i.vimeocdn.com/filter/overlay?src0=https%3A%2F%2Fimg.youtube.com%2Fvi%2FsVQp0c4dp7g%2Fmaxresdefault.jpg&amp;src1=https%3A%2F%2Fassets.glide.mailplus.co.uk%2Fprod%2Fassets%2Ficon-play-v2-70.de23c1bc88e4f035c3bad133b67fe517.png\" width=\"550\" style=\"width: 100%; max-width: 550px;margin:5px 0 5px 0\" />\\r\\n</a>\\r\\n</td>\\r\\n</tr>\\r\\n</table>\\r\\n</td></tr>\\r\\n<tr>\\r\\n<td class=\"content-padded\" style=\"font-family: Merriweather-Light, serif; padding:0 0 8px 0;\">\\r\\n<a href=\"https://link-replica.mailplus.co.uk/click/34349478.127799/aHR0cHM6Ly93d3cubWFpbHBsdXMuY28udWsvbGluay9pbi1hcHAtYnJvd3Nlci92aWRlby90aGUtcmVhY3Rpb24vMzQzOTI3L3N0cmlwLXRoZW0tb2YtdGhlaXItdGl0bGVzLW5vdy1zYXJhaC12aW5lLW9uLWhvdy10by1zdG9wLWhhcnJ5LW1lZ2hhbnMtbm9uc2Vuc2U_dXRtX3NvdXJjZT1uZXdzbGV0dGVyJnV0bV9tZWRpdW09ZW1haWwmdXRtX2NhbXBhaWduPU1OLU1haWxQbHVzLUJyaWVmaW5ncy0yNDAyMTRfQlI1X05FV1NMRVRURVImc2lnbmluPWF1dG8/65ccb5bc8e50e1c63703ea6bC05b2d486\" style=\"margin:0\">\\r\\n<h2 style=\"margin:0 0 0 0\">‘Strip them of their titles now!’ Sarah Vine on how to stop Harry &amp; Meghan’s ’nonsense’\\r\\n</h2>\\r\\n</a>\\r\\n</td>\\r\\n</tr>\\r\\n</table>\\r\\n</div><hr id=\"eAXUtQKsh8KA\" /><p id=\"elfjP6eEjbh5\" class=\"\"><strong id=\"ehtisjgooSf9\">Market watch</strong><span>: </span>\\r\\n<a href=\"https://link-replica.mailplus.co.uk/click/34349478.127799/aHR0cHM6Ly93d3cubWFpbHBsdXMuY28udWsvbGluay9pbi1hcHAtYnJvd3Nlci9lZGl0aW9uL25ld3MvMzQzOTQ1L2NvY2EtY29sYS1oYmMtc2hhcmVzLWZpenotb24tcmVjb3JkLXByb2ZpdHM_dXRtX3NvdXJjZT1uZXdzbGV0dGVyJnV0bV9tZWRpdW09ZW1haWwmdXRtX2NhbXBhaWduPU1OLU1haWxQbHVzLUJyaWVmaW5ncy0yNDAyMTRfQlI1X05FV1NMRVRURVImc2lnbmluPWF1dG8/65ccb5bc8e50e1c63703ea6bB730e48e3\" style=\"margin:0\">The latest news from the City</a></p><hr id=\"exVGzY06G3Sn\" /><p style=\"text-align: left;\" id=\"etP0j0DYbqHu\"></p><div id=\"ewDuwGdymnMG\" class=\"fr-embedded\">\\r\\n<table class=\"feature-top-stories\" style=\"margin-top: 30px; width: 100%\">\\r\\n<tr>\\r\\n<td class=\"content-padded\" align=\"center\" style=\"padding: 0;\\r\\ntext-align: center;\">\\r\\n<table width=\"100%\" cellpadding=\"0\" cellspacing=\"0\" border=\"0\" style=\"margin-bottom: 10px\">\\r\\n<tr>\\r\\n<td style=\"text-align: center; padding: 20px 0 5px 0;\"><span class=\"topic-tag\">MAIL SPORT</span></td>\\r\\n</tr>\\r\\n</table>\\r\\n</td>\\r\\n</tr>\\r\\n<tr><td data-y=\"HI:hi\">\\r\\n<table width=\"100%\" style=\"padding: 0; margin-bottom: 5px\" class=\"image-wrapper\">\\r\\n<tr>\\r\\n<td style=\"padding: 5px 0 5px 0\">\\r\\n<a href=\"https://link-replica.mailplus.co.uk/click/34349478.127799/aHR0cHM6Ly93d3cubWFpbHBsdXMuY28udWsvbGluay9pbi1hcHAtYnJvd3Nlci9lZGl0aW9uL25ld3MvMzQzOTQwL3R1aWxhZ2ktYmFjay1pbi1zcXVhZC1mb3Itc2NvdGxhbmQtc2hvd2Rvd24_dXRtX3NvdXJjZT1uZXdzbGV0dGVyJnV0bV9tZWRpdW09ZW1haWwmdXRtX2NhbXBhaWduPU1OLU1haWxQbHVzLUJyaWVmaW5ncy0yNDAyMTRfQlI1X05FV1NMRVRURVImc2lnbmluPWF1dG8/65ccb5bc8e50e1c63703ea6bB53af3a97\" style=\"margin:0\">\\r\\n<img alt=\"\" src=\"https://media.glide.mailplus.co.uk/prod/images/gm_preview/8634d52f9f4a-header5208974.jpg\" width=\"550\" style=\"width: 100%; max-width: 550px;margin:5px 0 5px 0\" />\\r\\n</a>\\r\\n</td>\\r\\n</tr>\\r\\n</table>\\r\\n</td></tr>\\r\\n<tr>\\r\\n<td class=\"content-padded\" style=\"font-family: Merriweather-Light, serif; padding:0 0 8px 0;\">\\r\\n<a href=\"https://link-replica.mailplus.co.uk/click/34349478.127799/aHR0cHM6Ly93d3cubWFpbHBsdXMuY28udWsvbGluay9pbi1hcHAtYnJvd3Nlci9lZGl0aW9uL25ld3MvMzQzOTQwL3R1aWxhZ2ktYmFjay1pbi1zcXVhZC1mb3Itc2NvdGxhbmQtc2hvd2Rvd24_dXRtX3NvdXJjZT1uZXdzbGV0dGVyJnV0bV9tZWRpdW09ZW1haWwmdXRtX2NhbXBhaWduPU1OLU1haWxQbHVzLUJyaWVmaW5ncy0yNDAyMTRfQlI1X05FV1NMRVRURVImc2lnbmluPWF1dG8/65ccb5bc8e50e1c63703ea6bC53af3a97\" style=\"margin:0\">\\r\\n<h2 style=\"margin:0 0 0 0\">Tuilagi back in squad for Scotland showdown\\r\\n</h2>\\r\\n</a>\\r\\n</td>\\r\\n</tr>\\r\\n</table>\\r\\n</div><hr id=\"ebaJ_hdAIJCe\" /><p id=\"edJQnjg-t2_Q\" class=\"\"></p><div id=\"e7QDO5R1LETE\" class=\"fr-embedded\">\\r\\n<table class=\"feature-top-stories\" style=\"margin-top: 30px; width: 100%\">\\r\\n<tr>\\r\\n<td class=\"content-padded\" align=\"center\" style=\"padding: 0;\\r\\ntext-align: center;\">\\r\\n<table width=\"100%\" cellpadding=\"0\" cellspacing=\"0\" border=\"0\" style=\"margin-bottom: 10px\">\\r\\n<tr>\\r\\n<td style=\"text-align: center; padding: 20px 0 5px 0;\"><span class=\"topic-tag\">WHAT TO WATCH TONIGHT</span></td>\\r\\n</tr>\\r\\n</table>\\r\\n</td>\\r\\n</tr>\\r\\n<tr><td data-y=\"HI:hi\">\\r\\n<table width=\"100%\" style=\"padding: 0; margin-bottom: 5px\" class=\"image-wrapper\">\\r\\n<tr>\\r\\n<td style=\"padding: 5px 0 5px 0\">\\r\\n<a href=\"https://link-replica.mailplus.co.uk/click/34349478.127799/aHR0cHM6Ly93d3cubWFpbHBsdXMuY28udWsvbGluay9pbi1hcHAtYnJvd3Nlci9lZGl0aW9uL25ld3MvMzQzOTQyL2FsaWNlLWphY2s_dXRtX3NvdXJjZT1uZXdzbGV0dGVyJnV0bV9tZWRpdW09ZW1haWwmdXRtX2NhbXBhaWduPU1OLU1haWxQbHVzLUJyaWVmaW5ncy0yNDAyMTRfQlI1X05FV1NMRVRURVImc2lnbmluPWF1dG8/65ccb5bc8e50e1c63703ea6bB87671d99\" style=\"margin:0\">\\r\\n<img alt=\"\" src=\"https://media.glide.mailplus.co.uk/prod/images/gm_preview/7ecd037bd255-header5208905.jpg\" width=\"550\" style=\"width: 100%; max-width: 550px;margin:5px 0 5px 0\" />\\r\\n</a>\\r\\n</td>\\r\\n</tr>\\r\\n</table>\\r\\n</td></tr>\\r\\n<tr>\\r\\n<td class=\"content-padded\" style=\"font-family: Merriweather-Light, serif; padding:0 0 8px 0;\">\\r\\n<a href=\"https://link-replica.mailplus.co.uk/click/34349478.127799/aHR0cHM6Ly93d3cubWFpbHBsdXMuY28udWsvbGluay9pbi1hcHAtYnJvd3Nlci9lZGl0aW9uL25ld3MvMzQzOTQyL2FsaWNlLWphY2s_dXRtX3NvdXJjZT1uZXdzbGV0dGVyJnV0bV9tZWRpdW09ZW1haWwmdXRtX2NhbXBhaWduPU1OLU1haWxQbHVzLUJyaWVmaW5ncy0yNDAyMTRfQlI1X05FV1NMRVRURVImc2lnbmluPWF1dG8/65ccb5bc8e50e1c63703ea6bC87671d99\" style=\"margin:0\">\\r\\n<h2 style=\"margin:0 0 0 0\">Alice &amp; Jack\\r\\n</h2>\\r\\n</a>\\r\\n</td>\\r\\n</tr>\\r\\n</table>\\r\\n</div><hr id=\"eByZ8qNLcJIg\" /><p style=\"text-align: center;\" id=\"eiKfPTNO9kVC\"><strong id=\"e336ef1_zYHA\">Tomorrow\\'s news today</strong></p><p id=\"e_99GswCzRYw\" class=\"\">• Wellingborough and Kingswood by-elections</p><p id=\"eYjsGBgOFE\" class=\"\">• Meeting of Nato defence ministers in Brussels</p><p id=\"e55MRIBx6T\" class=\"\">• Inaugural Women’s Prize for Non-Fiction award longlist to be announced</p><hr id=\"e5-iStElz9J1\" /><p id=\"ekcjCzyl_JSW\" class=\"\"></p><div id=\"ee0T46BcgTbc\" class=\"fr-embedded\">\\r\\n<table class=\"feature-top-stories\" style=\"margin-top: 30px; width: 100%\">\\r\\n<tr>\\r\\n<td class=\"content-padded\" align=\"center\" style=\"padding: 0;\\r\\ntext-align: center;\">\\r\\n<table width=\"100%\" cellpadding=\"0\" cellspacing=\"0\" border=\"0\" style=\"margin-bottom: 10px\">\\r\\n<tr>\\r\\n<td style=\"text-align: center; padding: 20px 0 5px 0;\"><span class=\"topic-tag\">PICTURES OF THE DAY</span></td>\\r\\n</tr>\\r\\n</table>\\r\\n</td>\\r\\n</tr>\\r\\n<tr><td data-y=\"BI: -si bi\">\\r\\n<table width=\"100%\" style=\"padding: 0; margin-bottom: 5px\" class=\"image-wrapper\">\\r\\n<tr>\\r\\n<td style=\"padding: 5px 0 5px 0\">\\r\\n<a href=\"https://link-replica.mailplus.co.uk/click/34349478.127799/aHR0cHM6Ly93d3cubWFpbHBsdXMuY28udWsvbGluay9pbi1hcHAtYnJvd3Nlci9lZGl0aW9uL25ld3MvcGljcy1vZi10aGUtZGF5LzM0MzkyMi9zbm93LXN1bmdsYXNzZXMtYW5kLXNhbWJhLWF0LXJpb3MtY2Fybml2YWw_dXRtX3NvdXJjZT1uZXdzbGV0dGVyJnV0bV9tZWRpdW09ZW1haWwmdXRtX2NhbXBhaWduPU1OLU1haWxQbHVzLUJyaWVmaW5ncy0yNDAyMTRfQlI1X05FV1NMRVRURVImc2lnbmluPWF1dG8/65ccb5bc8e50e1c63703ea6bB506fcb18\" style=\"margin:0\">\\r\\n<img alt=\"\" src=\"https://media.glide.mailplus.co.uk/prod/images/gm_preview/339afab923bd-sei191482067.jpg\" width=\"550\" style=\"width: 100%; max-width: 550px;margin:5px 0 5px 0\" />\\r\\n</a>\\r\\n</td>\\r\\n</tr>\\r\\n</table>\\r\\n</td></tr>\\r\\n<tr>\\r\\n<td class=\"content-padded\" style=\"font-family: Merriweather-Light, serif; padding:0 0 8px 0;\">\\r\\n<a href=\"https://link-replica.mailplus.co.uk/click/34349478.127799/aHR0cHM6Ly93d3cubWFpbHBsdXMuY28udWsvbGluay9pbi1hcHAtYnJvd3Nlci9lZGl0aW9uL25ld3MvcGljcy1vZi10aGUtZGF5LzM0MzkyMi9zbm93LXN1bmdsYXNzZXMtYW5kLXNhbWJhLWF0LXJpb3MtY2Fybml2YWw_dXRtX3NvdXJjZT1uZXdzbGV0dGVyJnV0bV9tZWRpdW09ZW1haWwmdXRtX2NhbXBhaWduPU1OLU1haWxQbHVzLUJyaWVmaW5ncy0yNDAyMTRfQlI1X05FV1NMRVRURVImc2lnbmluPWF1dG8/65ccb5bc8e50e1c63703ea6bC506fcb18\" style=\"margin:0\">\\r\\n<h2 style=\"margin:0 0 0 0\">Snow, sunglasses and samba at Rio’s carnival\\r\\n</h2>\\r\\n</a>\\r\\n</td>\\r\\n</tr>\\r\\n</table>\\r\\n</div><hr id=\"ezyaSwEIaFtV\" /><p id=\"eDB_OjNBQUxH\"><span>Enjoy this email? Sign up to our other newsletters including </span>\\r\\n<a href=\"https://link-replica.mailplus.co.uk/click/34349478.127799/aHR0cHM6Ly93d3cubWFpbHBsdXMuY28udWsvbGluay9pbi1hcHAtYnJvd3Nlci9lZGl0aW9uL3Nob3diaXovMTY5NTEzL3NpZ24tdXAtbmV3cy1kYWlseS1tYWlsLXR2LXNob3diaXotbmV3c2xldHRlci1taWtlLW11bHZpaGlsbD91dG1fc291cmNlPW5ld3NsZXR0ZXImdXRtX21lZGl1bT1lbWFpbCZ1dG1fY2FtcGFpZ249TU4tTWFpbFBsdXMtQnJpZWZpbmdzLTIzMDczMV9CUjVfTkVXU0xFVFRFUiZzaWduaW49YXV0bw/65ccb5bc8e50e1c63703ea6bB3427cc94\" style=\"margin:0\">TV AND SHOWBIZ</a><span>, </span>\\r\\n<a href=\"https://link-replica.mailplus.co.uk/click/34349478.127799/aHR0cHM6Ly93d3cubWFpbHBsdXMuY28udWsvbGluay9pbi1hcHAtYnJvd3Nlci9lZGl0aW9uL25ld3Mvcm95YWxzLzY1NjI1L3NpZ24tdXAtbm93LWZvci10aGUtbmV3LXBhbGFjZS1jb25maWRlbnRpYWwtbmV3c2xldHRlci1ieS1kaWFyeS1lZGl0b3ItcmljaGFyZC1lZGVuP3V0bV9zb3VyY2U9bmV3c2xldHRlciZ1dG1fbWVkaXVtPWVtYWlsJnV0bV9jYW1wYWlnbj1NTi1NYWlsUGx1cy1CcmllZmluZ3MtMjMwNzMxX0JSNV9ORVdTTEVUVEVSJnNpZ25pbj1hdXRv/65ccb5bc8e50e1c63703ea6bBb7f78b9e\" style=\"margin:0\">PALACE CONFIDENTIAL</a><span> and </span>\\r\\n<a href=\"https://link-replica.mailplus.co.uk/click/34349478.127799/aHR0cHM6Ly93d3cubWFpbHBsdXMuY28udWsvbGluay9pbi1hcHAtYnJvd3Nlci9lZGl0aW9uL3Nwb3J0LzIwNjQ4OC9zaWduLXVwLW5vdy1mb3ItdGhlLW1haWwtdHJhbnNmZXItY29uZmlkZW50aWFsLW5ld3NsZXR0ZXI_dXRtX3NvdXJjZT1uZXdzbGV0dGVyJnV0bV9tZWRpdW09ZW1haWwmdXRtX2NhbXBhaWduPU1OLU1haWxQbHVzLUJyaWVmaW5ncy0yNDAyMTRfQlI1X05FV1NMRVRURVImc2lnbmluPWF1dG8/65ccb5bc8e50e1c63703ea6bB118fb13c\" style=\"margin:0\">TRANSFER CONFIDENTIAL</a></p><p id=\"eURzRheio9Q5\"><span>Are you enjoying the 5pm Briefing? Tell us what you think at </span>\\r\\n<a href=\"mailto:editor@mailplus.co.uk\" style=\"margin:0\">editor@mailplus.co.uk</a></p></div><div id=\"eHQ5mmSGhwz\" class=\"fr-embedded\"><!-- social icons  -->\\r\\n<table align=\"center\" width=\"100%\" border=\"0\" cellpadding=\"0\" cellspacing=\"0\" role=\"presentation\" style=\"mso-table-lspace:0;mso-table-rspace:0\">\\r\\n<tbody>\\r\\n<tr>\\r\\n<td>\\r\\n<table width=\"510\" class=\"colF\" align=\"center\" border=\"0\" cellpadding=\"0\" cellspacing=\"0\" role=\"presentation\" style=\"mso-table-lspace:0;mso-table-rspace:0;background-color:#fff;color:#000;\">\\r\\n<tbody>\\r\\n<tr>\\r\\n<td width=\"100%\" align=\"center\" style=\"mso-table-lspace:0;mso-table-rspace:0; padding-top:0;border-top:0;border-right:0;border-bottom:0;border-left:0; \">\\r\\n<table align=\"center\" class=\"colC c\" width=\"510\" border=\"0\" cellpadding=\"0\" cellspacing=\"0\" role=\"presentation\" style=\"mso-table-lspace:0;mso-table-rspace:0\">\\r\\n<tr>\\r\\n<td style=\"padding: 50px 0px;\">\\r\\n<table border=\"0\" cellpadding=\"0\" cellspacing=\"0\" role=\"presentation\" style=\"\" width=\"100%\">\\r\\n<tbody>\\r\\n<tr>\\r\\n<td align=\"center\" style=\"font-size:0px;word-break:break-word;\">\\r\\n<!--[if mso | IE]><table align=\"center\" border=\"0\" cellpadding=\"0\" cellspacing=\"0\" role=\"presentation\" ><tr><td><![endif]-->\\r\\n<table align=\"center\" border=\"0\" cellpadding=\"0\" cellspacing=\"0\" role=\"presentation\" style=\"float:none;display:inline-table;\">\\r\\n<tr>\\r\\n<td style=\"padding:4px;vertical-align:middle; width:50px;\">\\r\\n<table border=\"0\" cellpadding=\"0\" cellspacing=\"0\" role=\"presentation\" style=\"border-radius:3px;width:38px;\">\\r\\n<tr>\\r\\n<td style=\"padding:0px;font-size:0;height:38px;vertical-align:middle;width:38px;\"> <a href=\"https://link.news.mailplus.co.uk/click/34349478.127799/aHR0cHM6Ly93d3cuZmFjZWJvb2suY29tL3RoZW1haWxwbHVzLz91dG1fc291cmNlPW5ld3NsZXR0ZXImdXRtX21lZGl1bT1lbWFpbCZ1dG1fY2FtcGFpZ249TU4tTWFpbFBsdXMtQnJpZWZpbmdzLTI0MDIxNF9CUjVfTkVXU0xFVFRFUiZzaWduaW49YXV0bw/65ccb5bc8e50e1c63703ea6bB3d494286\" target=\"_blank\"> <img height=\"38\" src=\"https://media.sailthru.com/composer/images/sailthru-prod-4w5/20220629_Social_Facebook.gif\" style=\"border-radius:3px;display:block;\" width=\"38\" /> </a> </td>\\r\\n</tr>\\r\\n</table>\\r\\n</td>\\r\\n</tr>\\r\\n</table>\\r\\n<!--[if mso | IE]></td><td><![endif]-->\\r\\n<table align=\"center\" border=\"0\" cellpadding=\"0\" cellspacing=\"0\" role=\"presentation\" style=\"float:none;display:inline-table;\">\\r\\n<tr>\\r\\n<td style=\"padding:4px;vertical-align:middle; width:50px;\">\\r\\n<table border=\"0\" cellpadding=\"0\" cellspacing=\"0\" role=\"presentation\" style=\"border-radius:3px;width:38px;\">\\r\\n<tr>\\r\\n<td style=\"padding:0px;font-size:0;height:38px;vertical-align:middle;width:38px;\"> <a href=\"https://link.news.mailplus.co.uk/click/34349478.127799/aHR0cHM6Ly90d2l0dGVyLmNvbS9tYWlscGx1cz91dG1fc291cmNlPW5ld3NsZXR0ZXImdXRtX21lZGl1bT1lbWFpbCZ1dG1fY2FtcGFpZ249TU4tTWFpbFBsdXMtQnJpZWZpbmdzLTI0MDIxNF9CUjVfTkVXU0xFVFRFUiZzaWduaW49YXV0bw/65ccb5bc8e50e1c63703ea6bB3df73dd3\" target=\"_blank\"> <img height=\"38\" src=\"https://media.sailthru.com/composer/images/sailthru-prod-4w5/20220629_Social_Twitter.gif\" style=\"border-radius:3px;display:block;\" width=\"38\" /> </a> </td>\\r\\n</tr>\\r\\n</table>\\r\\n</td>\\r\\n</tr>\\r\\n</table>\\r\\n<!--[if mso | IE]></td><td><![endif]-->\\r\\n<table align=\"center\" border=\"0\" cellpadding=\"0\" cellspacing=\"0\" role=\"presentation\" style=\"float:none;display:inline-table;\">\\r\\n<tr>\\r\\n<td style=\"padding:4px;vertical-align:middle; width:50px;\">\\r\\n<table border=\"0\" cellpadding=\"0\" cellspacing=\"0\" role=\"presentation\" style=\"border-radius:3px;width:38px;\">\\r\\n<tr>\\r\\n<td style=\"padding:0px;font-size:0;height:38px;vertical-align:middle;width:38px;\"> <a href=\"https://link.news.mailplus.co.uk/click/34349478.127799/aHR0cHM6Ly93d3cuaW5zdGFncmFtLmNvbS9tYWlscGx1cy8_dXRtX3NvdXJjZT1uZXdzbGV0dGVyJnV0bV9tZWRpdW09ZW1haWwmdXRtX2NhbXBhaWduPU1OLU1haWxQbHVzLUJyaWVmaW5ncy0yNDAyMTRfQlI1X05FV1NMRVRURVImc2lnbmluPWF1dG8/65ccb5bc8e50e1c63703ea6bBb635bbf0\" target=\"_blank\"> <img height=\"38\" src=\"https://media.sailthru.com/composer/images/sailthru-prod-4w5/20220629_Social_Insta.gif\" style=\"border-radius:3px;display:block;\" width=\"38\" /> </a> </td>\\r\\n</tr>\\r\\n</table>\\r\\n</td>\\r\\n</tr>\\r\\n</table>\\r\\n<!--[if mso | IE]></td></tr></table><![endif]-->\\r\\n</td>\\r\\n</tr>\\r\\n</tbody>\\r\\n</table>\\r\\n</td>\\r\\n</tr>\\r\\n</table>\\r\\n</td>\\r\\n</tr>\\r\\n</tbody>\\r\\n</table>\\r\\n</td>\\r\\n</tr>\\r\\n</tbody>\\r\\n</table>\\r\\n<!-- social icons ends  --></div>\\r\\n</td>\\r\\n</tr>\\r\\n</table>\\r\\n</td>\\r\\n</tr>\\r\\n</table>\\r\\n<table width=\"590\" align=\"center\" border=\"0\" cellspacing=\"0\" cellpadding=\"0\">\\r\\n<tr>\\r\\n<td>\\r\\n<div class=\"footer\">\\r\\n<text><p>Add <a href=\"mailto:newsletter@news.dailymail.co.uk\">newsletter@news.dailymail.co.uk</a> to your safelist or contact list to ensure you never miss an email from us.</p>\\r\\n<p>You can change your email preferences at any time&nbsp;<a href=\"https://link.news.mailplus.co.uk/manage/4w5/mp-preference?email=simon.nachtergaele@gmail.com&hash=aa983b66338ba0d4bb14b0763d456dc5\"  target=\"_blank\">here</a>.</p>\\r\\n<p>This email was sent by Associated Newspapers Limited, Northcliffe House, 2 Derry Street, London W8 5TT Registered in England and Wales with company number 00084121.</p>\\r\\n<p><a href=\"https://link.news.mailplus.co.uk/click/34349478.127799/aHR0cHM6Ly93d3cubXltYWlsYWNjb3VudC5jby51ay9wYWdlcy9tYWlscGx1cy90ZXJtc0FuZENvbmRpdGlvbnM_dXRtX3NvdXJjZT1uZXdzbGV0dGVyJnV0bV9tZWRpdW09ZW1haWwmdXRtX2NhbXBhaWduPU1OLU1haWxQbHVzLUJyaWVmaW5ncy0yNDAyMTRfQlI1X05FV1NMRVRURVImc2lnbmluPWF1dG8/65ccb5bc8e50e1c63703ea6bB516dd962\" target=\"_blank\">Terms</a>&nbsp;|&nbsp;<a href=\"https://link.news.mailplus.co.uk/click/34349478.127799/aHR0cHM6Ly93d3cubXltYWlsYWNjb3VudC5jby51ay9wYWdlcy9tYWlscGx1cy9wcml2YWN5QW5kQ29va2llc1BvbGljeT91dG1fc291cmNlPW5ld3NsZXR0ZXImdXRtX21lZGl1bT1lbWFpbCZ1dG1fY2FtcGFpZ249TU4tTWFpbFBsdXMtQnJpZWZpbmdzLTI0MDIxNF9CUjVfTkVXU0xFVFRFUiZzaWduaW49YXV0bw/65ccb5bc8e50e1c63703ea6bB963c5e6c\" target=\"_blank\">Privacy Policy</a></p>\\r\\n<div style=”display:none!important;font-size:0px;”>https://link.news.mailplus.co.uk/oc/65ccb5bc8e50e1c63703ea6bkg886.2qlz/e021f33e&list=mailplus</div></text>\\r\\n</div>\\r\\n</td>\\r\\n</tr>\\r\\n</table>\\r\\n<div style=\"display: none;\"><a href=\"https://link.news.mailplus.co.uk/click/34349478.127799/aHR0cDovL3d3dy5kYWlseW1haWwuY28udWs_dXRtX3NvdXJjZT1uZXdzbGV0dGVyJnV0bV9tZWRpdW09ZW1haWwmdXRtX2NhbXBhaWduPU1OLU1haWxQbHVzLUJyaWVmaW5ncy0yNDAyMTRfQlI1X05FV1NMRVRURVImc2lnbmluPWF1dG8/65ccb5bc8e50e1c63703ea6bBd9a07225\"><img src=\"https://link.news.mailplus.co.uk/img/65ccb5bc8e50e1c63703ea6bkg886.2qlz/cded507e.gif\" alt=\"\" border=\"0\" /></a></div>\\r\\n</body>\\r\\n</html>'"
      ]
     },
     "execution_count": 16,
     "metadata": {},
     "output_type": "execute_result"
    }
   ],
   "source": [
    "html"
   ]
  },
  {
   "cell_type": "code",
   "execution_count": 41,
   "metadata": {},
   "outputs": [],
   "source": [
    "with open(html_filename, \"w\") as f:\n",
    "    f.write(html)"
   ]
  }
 ],
 "metadata": {
  "kernelspec": {
   "display_name": "5pm-mail-parser-uNSIXamR-py3.11",
   "language": "python",
   "name": "python3"
  },
  "language_info": {
   "codemirror_mode": {
    "name": "ipython",
    "version": 3
   },
   "file_extension": ".py",
   "mimetype": "text/x-python",
   "name": "python",
   "nbconvert_exporter": "python",
   "pygments_lexer": "ipython3",
   "version": "3.11.7"
  },
  "orig_nbformat": 4
 },
 "nbformat": 4,
 "nbformat_minor": 2
}
