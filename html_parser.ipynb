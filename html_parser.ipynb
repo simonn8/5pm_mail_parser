{
 "cells": [
  {
   "cell_type": "code",
   "execution_count": 4,
   "metadata": {},
   "outputs": [],
   "source": [
    "with open(\"data/newsletter_5pm_240214.html\", \"r\") as f:\n",
    "    html_content = f.read()"
   ]
  },
  {
   "cell_type": "code",
   "execution_count": 2,
   "metadata": {},
   "outputs": [],
   "source": [
    "from bs4 import BeautifulSoup"
   ]
  },
  {
   "cell_type": "code",
   "execution_count": 12,
   "metadata": {},
   "outputs": [
    {
     "name": "stdout",
     "output_type": "stream",
     "text": [
      "First div content: Good evening,\n",
      "Second div content: In tonight's 5pm briefing Labour is under intense pressure to come clean over who attended an infamous meeting in Rochdale where party members made vile anti-Israel remarks, the Duke and Duchess of Sussex have flown to Canada on a gas-guzzling private jet to promote next year’s Invictus Games amid an ongoing fallout over their website’s rebrand, and Beyoncé oozes country cool at New York Fashion Week...\n"
     ]
    }
   ],
   "source": [
    "# Parse the HTML content\n",
    "soup = BeautifulSoup(html_content, \"html.parser\")\n",
    "\n",
    "# Find the first table row\n",
    "first_row = soup.find(\"tr\")\n",
    "\n",
    "# Check if a row is found\n",
    "if first_row:\n",
    "    # Get the first cell (assuming it's a <td> element)\n",
    "    first_text = first_row.find(\"td\").find(\"div\").find_all(\"p\")\n",
    "\n",
    "    # Extract the text content from the cell\n",
    "    if first_text:\n",
    "        first_div_text = first_text[0].text.strip()\n",
    "        print(f\"First div content: {first_div_text}\")\n",
    "        second_div_text = first_text[1].text.strip()\n",
    "        print(f\"Second div content: {second_div_text}\")\n",
    "    else:\n",
    "        print(\"First dic doesn't contain a data cell (<td>)\")\n",
    "else:\n",
    "    print(\"No table rows found\")"
   ]
  },
  {
   "cell_type": "code",
   "execution_count": null,
   "metadata": {},
   "outputs": [],
   "source": []
  }
 ],
 "metadata": {
  "kernelspec": {
   "display_name": ".venv",
   "language": "python",
   "name": "python3"
  },
  "language_info": {
   "codemirror_mode": {
    "name": "ipython",
    "version": 3
   },
   "file_extension": ".py",
   "mimetype": "text/x-python",
   "name": "python",
   "nbconvert_exporter": "python",
   "pygments_lexer": "ipython3",
   "version": "3.11.7"
  },
  "orig_nbformat": 4
 },
 "nbformat": 4,
 "nbformat_minor": 2
}
